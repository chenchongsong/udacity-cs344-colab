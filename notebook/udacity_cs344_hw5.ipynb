{
  "nbformat": 4,
  "nbformat_minor": 0,
  "metadata": {
    "colab": {
      "name": "udacity-cs344-hw5",
      "provenance": [],
      "collapsed_sections": [],
      "include_colab_link": true
    },
    "kernelspec": {
      "name": "python3",
      "display_name": "Python 3"
    },
    "accelerator": "GPU"
  },
  "cells": [
    {
      "cell_type": "markdown",
      "metadata": {
        "id": "view-in-github",
        "colab_type": "text"
      },
      "source": [
        "<a href=\"https://colab.research.google.com/github/chenchongsong/udacity-cs344-colab/blob/main/notebook/udacity_cs344_hw5.ipynb\" target=\"_parent\"><img src=\"https://colab.research.google.com/assets/colab-badge.svg\" alt=\"Open In Colab\"/></a>"
      ]
    },
    {
      "metadata": {
        "id": "hse6gSyUS5ka"
      },
      "cell_type": "code",
      "source": [
        "# Homework 5 for Udacity CS344 Course, Intro to Parallel Programming\n",
        "# clone the code repo,\n",
        "!git clone https://github.com/chenchongsong/udacity-cs344-colab\n",
        "!pip install git+git://github.com/depctg/nvcc4jupyter.git\n",
        "\n",
        "# load cuda plugin\n",
        "%config NVCCPluginV2.static_dir = True\n",
        "%config NVCCPluginV2.relative_dir = \"udacity-cs344-colab/src/HW5\"\n",
        "%load_ext nvcc_plugin\n",
        "\n",
        "# change to work directory, generate makefiles\n",
        "!mkdir udacity-cs344-colab/build\n",
        "%cd udacity-cs344-colab/build\n",
        "!cmake ../src"
      ],
      "execution_count": null,
      "outputs": []
    },
    {
      "metadata": {
        "id": "3vA0JP15TORh"
      },
      "cell_type": "code",
      "source": [
        "%%cuda --name student.cu\n",
        "\n",
        "/* Udacity HW5\n",
        "   Histogramming for Speed\n",
        "\n",
        "   The goal of this assignment is compute a histogram\n",
        "   as fast as possible.  We have simplified the problem as much as\n",
        "   possible to allow you to focus solely on the histogramming algorithm.\n",
        "\n",
        "   The input values that you need to histogram are already the exact\n",
        "   bins that need to be updated.  This is unlike in HW3 where you needed\n",
        "   to compute the range of the data and then do:\n",
        "   bin = (val - valMin) / valRange to determine the bin.\n",
        "\n",
        "   Here the bin is just:\n",
        "   bin = val\n",
        "\n",
        "   so the serial histogram calculation looks like:\n",
        "   for (i = 0; i < numElems; ++i)\n",
        "     histo[val[i]]++;\n",
        "\n",
        "   That's it!  Your job is to make it run as fast as possible!\n",
        "\n",
        "   The values are normally distributed - you may take\n",
        "   advantage of this fact in your implementation.\n",
        "\n",
        "*/\n",
        "\n",
        "\n",
        "#include \"utils.h\"\n",
        "#include <thrust/device_vector.h>\n",
        "#include <thrust/sort.h>\n",
        "\n",
        "const int BLOCK_SIZE = 1024;  // must be larger than numBins\n",
        "\n",
        "__global__\n",
        "void yourHistoBaseline(\n",
        "    const unsigned int* const d_vals, //INPUT\n",
        "    unsigned int* const d_histo,      //OUTPUT\n",
        "    const unsigned int numBins,\n",
        "    const unsigned int numElems) {\n",
        "  int myId = threadIdx.x + blockDim.x * blockIdx.x;\n",
        "  int tid  = threadIdx.x;\n",
        "\n",
        "  // create a private histogram copy for each thread block\n",
        "  extern __shared__ unsigned int hist[];\n",
        "  for (int i = tid; i < numBins; i += blockDim.x) {  // 基于HW3，但考虑得更周全\n",
        "    hist[i] = 0;\n",
        "  }\n",
        "  __syncthreads();\n",
        "\n",
        "  // update each block's private histogram\n",
        "  if (myId < numElems) {\n",
        "    atomicAdd(&(hist[d_vals[myId]]), 1);\n",
        "  }\n",
        "  __syncthreads();\n",
        "\n",
        "  for (int i = tid; i < numBins; i += blockDim.x) {\n",
        "    atomicAdd(&(d_histo[i]), hist[i]); \n",
        "  }\n",
        "}\n",
        "\n",
        "void computeHistogram(const unsigned int* const d_vals, //INPUT\n",
        "                      unsigned int* const d_histo,      //OUTPUT\n",
        "                      const unsigned int numBins,\n",
        "                      const unsigned int numElems) {\n",
        "  //numBins: 1024, numElems: 10240000\n",
        "\n",
        "  //v1: baseline, 3.32ms\n",
        "  //int numBlock = ceil(1.0f * numElems / BLOCK_SIZE);\n",
        "  //int shBytes = numBins * sizeof(unsigned int);\n",
        "\t//yourHistoBaseline<<<numBlock, BLOCK_SIZE, shBytes>>>(d_vals, d_histo, numBins, numElems);\n",
        "\n",
        "  \n",
        "}"
      ],
      "execution_count": null,
      "outputs": []
    },
    {
      "metadata": {
        "id": "sSAnpiE2nL1T"
      },
      "cell_type": "code",
      "source": [
        "# make the cuda project\n",
        "!make HW5\n",
        "print(\"\\n====== RESULT OF HW5 =======\\n\")\n",
        "!bin/HW5"
      ],
      "execution_count": null,
      "outputs": []
    }
  ]
}